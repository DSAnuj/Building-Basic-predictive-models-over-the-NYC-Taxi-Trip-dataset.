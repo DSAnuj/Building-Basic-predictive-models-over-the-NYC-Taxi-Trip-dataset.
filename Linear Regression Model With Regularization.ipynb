{
 "cells": [
  {
   "cell_type": "code",
   "execution_count": 1,
   "id": "static-establishment",
   "metadata": {},
   "outputs": [],
   "source": [
    "# importing necessary libraries\n",
    "\n",
    "import pandas as pd\n",
    "import numpy as np\n",
    "import matplotlib.pyplot as plt\n",
    "%matplotlib inline\n",
    "import seaborn as sns"
   ]
  },
  {
   "cell_type": "code",
   "execution_count": 2,
   "id": "spare-history",
   "metadata": {},
   "outputs": [
    {
     "data": {
      "text/html": [
       "<div>\n",
       "<style scoped>\n",
       "    .dataframe tbody tr th:only-of-type {\n",
       "        vertical-align: middle;\n",
       "    }\n",
       "\n",
       "    .dataframe tbody tr th {\n",
       "        vertical-align: top;\n",
       "    }\n",
       "\n",
       "    .dataframe thead th {\n",
       "        text-align: right;\n",
       "    }\n",
       "</style>\n",
       "<table border=\"1\" class=\"dataframe\">\n",
       "  <thead>\n",
       "    <tr style=\"text-align: right;\">\n",
       "      <th></th>\n",
       "      <th>vendor_id</th>\n",
       "      <th>passenger_count</th>\n",
       "      <th>pickup_longitude</th>\n",
       "      <th>pickup_latitude</th>\n",
       "      <th>dropoff_longitude</th>\n",
       "      <th>dropoff_latitude</th>\n",
       "      <th>trip_duration</th>\n",
       "      <th>weekday</th>\n",
       "      <th>hour_of_day</th>\n",
       "      <th>month</th>\n",
       "      <th>store_and_fwd_flag_N</th>\n",
       "      <th>store_and_fwd_flag_Y</th>\n",
       "    </tr>\n",
       "  </thead>\n",
       "  <tbody>\n",
       "    <tr>\n",
       "      <th>0</th>\n",
       "      <td>2</td>\n",
       "      <td>1</td>\n",
       "      <td>-73.953918</td>\n",
       "      <td>40.778873</td>\n",
       "      <td>-73.963875</td>\n",
       "      <td>40.771164</td>\n",
       "      <td>400.0</td>\n",
       "      <td>0</td>\n",
       "      <td>16</td>\n",
       "      <td>2</td>\n",
       "      <td>1</td>\n",
       "      <td>0</td>\n",
       "    </tr>\n",
       "    <tr>\n",
       "      <th>1</th>\n",
       "      <td>1</td>\n",
       "      <td>2</td>\n",
       "      <td>-73.988312</td>\n",
       "      <td>40.731743</td>\n",
       "      <td>-73.994751</td>\n",
       "      <td>40.694931</td>\n",
       "      <td>1100.0</td>\n",
       "      <td>4</td>\n",
       "      <td>23</td>\n",
       "      <td>3</td>\n",
       "      <td>1</td>\n",
       "      <td>0</td>\n",
       "    </tr>\n",
       "    <tr>\n",
       "      <th>2</th>\n",
       "      <td>2</td>\n",
       "      <td>2</td>\n",
       "      <td>-73.997314</td>\n",
       "      <td>40.721458</td>\n",
       "      <td>-73.948029</td>\n",
       "      <td>40.774918</td>\n",
       "      <td>1635.0</td>\n",
       "      <td>6</td>\n",
       "      <td>17</td>\n",
       "      <td>2</td>\n",
       "      <td>1</td>\n",
       "      <td>0</td>\n",
       "    </tr>\n",
       "    <tr>\n",
       "      <th>3</th>\n",
       "      <td>2</td>\n",
       "      <td>6</td>\n",
       "      <td>-73.961670</td>\n",
       "      <td>40.759720</td>\n",
       "      <td>-73.956779</td>\n",
       "      <td>40.780628</td>\n",
       "      <td>1141.0</td>\n",
       "      <td>1</td>\n",
       "      <td>9</td>\n",
       "      <td>1</td>\n",
       "      <td>1</td>\n",
       "      <td>0</td>\n",
       "    </tr>\n",
       "    <tr>\n",
       "      <th>4</th>\n",
       "      <td>1</td>\n",
       "      <td>1</td>\n",
       "      <td>-74.017120</td>\n",
       "      <td>40.708469</td>\n",
       "      <td>-73.988182</td>\n",
       "      <td>40.740631</td>\n",
       "      <td>848.0</td>\n",
       "      <td>2</td>\n",
       "      <td>6</td>\n",
       "      <td>2</td>\n",
       "      <td>1</td>\n",
       "      <td>0</td>\n",
       "    </tr>\n",
       "  </tbody>\n",
       "</table>\n",
       "</div>"
      ],
      "text/plain": [
       "   vendor_id  passenger_count  pickup_longitude  pickup_latitude  \\\n",
       "0          2                1        -73.953918        40.778873   \n",
       "1          1                2        -73.988312        40.731743   \n",
       "2          2                2        -73.997314        40.721458   \n",
       "3          2                6        -73.961670        40.759720   \n",
       "4          1                1        -74.017120        40.708469   \n",
       "\n",
       "   dropoff_longitude  dropoff_latitude  trip_duration  weekday  hour_of_day  \\\n",
       "0         -73.963875         40.771164          400.0        0           16   \n",
       "1         -73.994751         40.694931         1100.0        4           23   \n",
       "2         -73.948029         40.774918         1635.0        6           17   \n",
       "3         -73.956779         40.780628         1141.0        1            9   \n",
       "4         -73.988182         40.740631          848.0        2            6   \n",
       "\n",
       "   month  store_and_fwd_flag_N  store_and_fwd_flag_Y  \n",
       "0      2                     1                     0  \n",
       "1      3                     1                     0  \n",
       "2      2                     1                     0  \n",
       "3      1                     1                     0  \n",
       "4      2                     1                     0  "
      ]
     },
     "execution_count": 2,
     "metadata": {},
     "output_type": "execute_result"
    }
   ],
   "source": [
    "df = pd.read_csv('cleaned_df.csv')\n",
    "df.head()"
   ]
  },
  {
   "cell_type": "code",
   "execution_count": 3,
   "id": "unique-tunisia",
   "metadata": {},
   "outputs": [
    {
     "data": {
      "text/plain": [
       "((729287, 11), (729287,))"
      ]
     },
     "execution_count": 3,
     "metadata": {},
     "output_type": "execute_result"
    }
   ],
   "source": [
    "# Seperating the dependent and independent variables\n",
    "x = df.drop(['trip_duration'] , axis = 1)\n",
    "y = df['trip_duration']\n",
    "x.shape , y.shape"
   ]
  },
  {
   "cell_type": "code",
   "execution_count": 4,
   "id": "proof-miller",
   "metadata": {},
   "outputs": [],
   "source": [
    "# Scaling our data\n",
    "from sklearn.preprocessing import StandardScaler\n",
    "ss = StandardScaler()\n",
    "x_scaled = ss.fit_transform(x)"
   ]
  },
  {
   "cell_type": "code",
   "execution_count": 5,
   "id": "ready-custom",
   "metadata": {},
   "outputs": [
    {
     "data": {
      "text/html": [
       "<div>\n",
       "<style scoped>\n",
       "    .dataframe tbody tr th:only-of-type {\n",
       "        vertical-align: middle;\n",
       "    }\n",
       "\n",
       "    .dataframe tbody tr th {\n",
       "        vertical-align: top;\n",
       "    }\n",
       "\n",
       "    .dataframe thead th {\n",
       "        text-align: right;\n",
       "    }\n",
       "</style>\n",
       "<table border=\"1\" class=\"dataframe\">\n",
       "  <thead>\n",
       "    <tr style=\"text-align: right;\">\n",
       "      <th></th>\n",
       "      <th>vendor_id</th>\n",
       "      <th>passenger_count</th>\n",
       "      <th>pickup_longitude</th>\n",
       "      <th>pickup_latitude</th>\n",
       "      <th>dropoff_longitude</th>\n",
       "      <th>dropoff_latitude</th>\n",
       "      <th>weekday</th>\n",
       "      <th>hour_of_day</th>\n",
       "      <th>month</th>\n",
       "      <th>store_and_fwd_flag_N</th>\n",
       "      <th>store_and_fwd_flag_Y</th>\n",
       "    </tr>\n",
       "  </thead>\n",
       "  <tbody>\n",
       "    <tr>\n",
       "      <th>0</th>\n",
       "      <td>0.931525</td>\n",
       "      <td>-0.504511</td>\n",
       "      <td>0.280923</td>\n",
       "      <td>0.832137</td>\n",
       "      <td>0.137202</td>\n",
       "      <td>0.538016</td>\n",
       "      <td>-1.560050</td>\n",
       "      <td>0.372987</td>\n",
       "      <td>-0.903481</td>\n",
       "      <td>0.074617</td>\n",
       "      <td>-0.074617</td>\n",
       "    </tr>\n",
       "    <tr>\n",
       "      <th>1</th>\n",
       "      <td>-1.073508</td>\n",
       "      <td>0.257461</td>\n",
       "      <td>-0.212147</td>\n",
       "      <td>-0.570858</td>\n",
       "      <td>-0.306501</td>\n",
       "      <td>-1.577473</td>\n",
       "      <td>0.486556</td>\n",
       "      <td>1.466272</td>\n",
       "      <td>-0.308476</td>\n",
       "      <td>0.074617</td>\n",
       "      <td>-0.074617</td>\n",
       "    </tr>\n",
       "    <tr>\n",
       "      <th>2</th>\n",
       "      <td>0.931525</td>\n",
       "      <td>0.257461</td>\n",
       "      <td>-0.341211</td>\n",
       "      <td>-0.877008</td>\n",
       "      <td>0.364919</td>\n",
       "      <td>0.642181</td>\n",
       "      <td>1.509859</td>\n",
       "      <td>0.529170</td>\n",
       "      <td>-0.903481</td>\n",
       "      <td>0.074617</td>\n",
       "      <td>-0.074617</td>\n",
       "    </tr>\n",
       "    <tr>\n",
       "      <th>3</th>\n",
       "      <td>0.931525</td>\n",
       "      <td>3.305345</td>\n",
       "      <td>0.169797</td>\n",
       "      <td>0.261968</td>\n",
       "      <td>0.239165</td>\n",
       "      <td>0.800652</td>\n",
       "      <td>-1.048398</td>\n",
       "      <td>-0.720298</td>\n",
       "      <td>-1.498486</td>\n",
       "      <td>0.074617</td>\n",
       "      <td>-0.074617</td>\n",
       "    </tr>\n",
       "    <tr>\n",
       "      <th>4</th>\n",
       "      <td>-1.073508</td>\n",
       "      <td>-0.504511</td>\n",
       "      <td>-0.625153</td>\n",
       "      <td>-1.263669</td>\n",
       "      <td>-0.212103</td>\n",
       "      <td>-0.309281</td>\n",
       "      <td>-0.536747</td>\n",
       "      <td>-1.188849</td>\n",
       "      <td>-0.903481</td>\n",
       "      <td>0.074617</td>\n",
       "      <td>-0.074617</td>\n",
       "    </tr>\n",
       "  </tbody>\n",
       "</table>\n",
       "</div>"
      ],
      "text/plain": [
       "   vendor_id  passenger_count  pickup_longitude  pickup_latitude  \\\n",
       "0   0.931525        -0.504511          0.280923         0.832137   \n",
       "1  -1.073508         0.257461         -0.212147        -0.570858   \n",
       "2   0.931525         0.257461         -0.341211        -0.877008   \n",
       "3   0.931525         3.305345          0.169797         0.261968   \n",
       "4  -1.073508        -0.504511         -0.625153        -1.263669   \n",
       "\n",
       "   dropoff_longitude  dropoff_latitude   weekday  hour_of_day     month  \\\n",
       "0           0.137202          0.538016 -1.560050     0.372987 -0.903481   \n",
       "1          -0.306501         -1.577473  0.486556     1.466272 -0.308476   \n",
       "2           0.364919          0.642181  1.509859     0.529170 -0.903481   \n",
       "3           0.239165          0.800652 -1.048398    -0.720298 -1.498486   \n",
       "4          -0.212103         -0.309281 -0.536747    -1.188849 -0.903481   \n",
       "\n",
       "   store_and_fwd_flag_N  store_and_fwd_flag_Y  \n",
       "0              0.074617             -0.074617  \n",
       "1              0.074617             -0.074617  \n",
       "2              0.074617             -0.074617  \n",
       "3              0.074617             -0.074617  \n",
       "4              0.074617             -0.074617  "
      ]
     },
     "execution_count": 5,
     "metadata": {},
     "output_type": "execute_result"
    }
   ],
   "source": [
    "x = pd.DataFrame(x_scaled , columns = x.columns)\n",
    "x.head()"
   ]
  },
  {
   "cell_type": "code",
   "execution_count": 6,
   "id": "entitled-specific",
   "metadata": {},
   "outputs": [],
   "source": [
    "# forming the train and test data from our dataset\n",
    "\n",
    "from sklearn.model_selection import train_test_split\n",
    "train_x , test_x , train_y , test_y = train_test_split(x,y , random_state = 100)"
   ]
  },
  {
   "cell_type": "code",
   "execution_count": 7,
   "id": "variable-commitment",
   "metadata": {},
   "outputs": [],
   "source": [
    "from sklearn.linear_model import LinearRegression\n",
    "from sklearn.metrics import mean_squared_error as mse"
   ]
  },
  {
   "cell_type": "code",
   "execution_count": 8,
   "id": "violent-custom",
   "metadata": {},
   "outputs": [
    {
     "data": {
      "text/plain": [
       "LinearRegression()"
      ]
     },
     "execution_count": 8,
     "metadata": {},
     "output_type": "execute_result"
    }
   ],
   "source": [
    "lr = LinearRegression()\n",
    "lr.fit(train_x , train_y)"
   ]
  },
  {
   "cell_type": "code",
   "execution_count": 9,
   "id": "cordless-monthly",
   "metadata": {},
   "outputs": [
    {
     "name": "stdout",
     "output_type": "stream",
     "text": [
      "RMSE of model is:  592.1051105519804\n"
     ]
    }
   ],
   "source": [
    "#predicting over the test_data\n",
    "\n",
    "test_pred = lr.predict(test_x)\n",
    "k = np.sqrt(mse(test_pred , test_y))\n",
    "print('RMSE of model is: ' , k)"
   ]
  },
  {
   "cell_type": "code",
   "execution_count": null,
   "id": "apparent-bleeding",
   "metadata": {},
   "outputs": [],
   "source": []
  },
  {
   "cell_type": "code",
   "execution_count": 10,
   "id": "chief-integral",
   "metadata": {},
   "outputs": [],
   "source": [
    "#Regularizing the data"
   ]
  },
  {
   "cell_type": "code",
   "execution_count": 11,
   "id": "positive-depression",
   "metadata": {},
   "outputs": [],
   "source": [
    "# Lasso Regression"
   ]
  },
  {
   "cell_type": "code",
   "execution_count": 12,
   "id": "funny-shipping",
   "metadata": {},
   "outputs": [
    {
     "data": {
      "text/plain": [
       "Lasso(alpha=0.0001, normalize=True, tol=1e-05)"
      ]
     },
     "execution_count": 12,
     "metadata": {},
     "output_type": "execute_result"
    }
   ],
   "source": [
    "from sklearn import linear_model\n",
    "lasso_reg = linear_model.Lasso(alpha = 0.0001, normalize = True , max_iter = 1000 , tol = 0.00001)\n",
    "lasso_reg.fit(train_x , train_y)"
   ]
  },
  {
   "cell_type": "code",
   "execution_count": 13,
   "id": "alone-agreement",
   "metadata": {},
   "outputs": [],
   "source": [
    "# These are the best parameters of lasso model"
   ]
  },
  {
   "cell_type": "code",
   "execution_count": 14,
   "id": "specified-spare",
   "metadata": {},
   "outputs": [
    {
     "name": "stdout",
     "output_type": "stream",
     "text": [
      "RMSE of lasso model of train data :  599.9706327803193\n"
     ]
    }
   ],
   "source": [
    "train_pred = lasso_reg.predict(train_x)\n",
    "mean_train_error = np.sqrt(mse(train_pred , train_y))\n",
    "print('RMSE of lasso model of train data : ' , mean_train_error)"
   ]
  },
  {
   "cell_type": "code",
   "execution_count": 15,
   "id": "varying-corporation",
   "metadata": {},
   "outputs": [
    {
     "name": "stdout",
     "output_type": "stream",
     "text": [
      "RMSE of lasso model on test data : 592.1100324545317\n"
     ]
    }
   ],
   "source": [
    "test_pred = lasso_reg.predict(test_x)\n",
    "mean_test_error = np.sqrt(mse(test_pred , test_y))\n",
    "print('RMSE of lasso model on test data :' , mean_test_error)"
   ]
  },
  {
   "cell_type": "code",
   "execution_count": 16,
   "id": "amber-entry",
   "metadata": {},
   "outputs": [],
   "source": [
    "# Ridge Regression "
   ]
  },
  {
   "cell_type": "code",
   "execution_count": 17,
   "id": "superior-anthropology",
   "metadata": {},
   "outputs": [
    {
     "data": {
      "text/plain": [
       "Ridge(alpha=0.01, max_iter=1000, normalize=True, tol=1e-05)"
      ]
     },
     "execution_count": 17,
     "metadata": {},
     "output_type": "execute_result"
    }
   ],
   "source": [
    "from sklearn.linear_model import Ridge\n",
    "ridge_reg = Ridge(alpha = 0.01 , normalize = True , max_iter = 1000 , tol = 0.00001)\n",
    "ridge_reg.fit(train_x , train_y)"
   ]
  },
  {
   "cell_type": "code",
   "execution_count": 18,
   "id": "sonic-frank",
   "metadata": {},
   "outputs": [],
   "source": [
    "# These are the best hyperparameters of ridge regression."
   ]
  },
  {
   "cell_type": "code",
   "execution_count": 19,
   "id": "respiratory-alpha",
   "metadata": {},
   "outputs": [
    {
     "name": "stdout",
     "output_type": "stream",
     "text": [
      "RMSE of ridge model of train data : 599.9793776344706\n"
     ]
    }
   ],
   "source": [
    "train_pred = ridge_reg.predict(train_x)\n",
    "mean_train_error = np.sqrt(mse(train_pred , train_y))\n",
    "print('RMSE of ridge model of train data :' ,mean_train_error)"
   ]
  },
  {
   "cell_type": "code",
   "execution_count": 20,
   "id": "regular-topic",
   "metadata": {},
   "outputs": [
    {
     "name": "stdout",
     "output_type": "stream",
     "text": [
      "RMSE of ridge model of test data 592.2388444739161\n"
     ]
    }
   ],
   "source": [
    "test_pred = ridge_reg.predict(test_x)\n",
    "mean_test_error = np.sqrt(mse(test_pred , test_y))\n",
    "print('RMSE of ridge model of test data' , mean_test_error)"
   ]
  },
  {
   "cell_type": "code",
   "execution_count": null,
   "id": "proof-centre",
   "metadata": {},
   "outputs": [],
   "source": []
  },
  {
   "cell_type": "code",
   "execution_count": 21,
   "id": "lesser-pride",
   "metadata": {},
   "outputs": [],
   "source": [
    "# Let us check for parameters of Linear Regression:\n"
   ]
  },
  {
   "cell_type": "code",
   "execution_count": 22,
   "id": "naughty-appeal",
   "metadata": {},
   "outputs": [
    {
     "data": {
      "text/plain": [
       "array([  6.60534959,   8.60001334, 141.97263601, -81.75998729,\n",
       "       -35.30332403, -70.40396738, -20.96298723,  17.47237144,\n",
       "        36.83537769,  -7.15788084,   7.15788084])"
      ]
     },
     "execution_count": 22,
     "metadata": {},
     "output_type": "execute_result"
    }
   ],
   "source": [
    "lr.coef_"
   ]
  },
  {
   "cell_type": "code",
   "execution_count": 23,
   "id": "compressed-stage",
   "metadata": {},
   "outputs": [
    {
     "data": {
      "text/plain": [
       "Text(0.5, 1.0, 'Coefficients plot')"
      ]
     },
     "execution_count": 23,
     "metadata": {},
     "output_type": "execute_result"
    },
    {
     "data": {
      "image/png": "[encoded data removed]",
      "text/plain": [
       "<Figure size 864x576 with 1 Axes>"
      ]
     },
     "metadata": {
      "needs_background": "light"
     },
     "output_type": "display_data"
    }
   ],
   "source": [
    "# Let's plot these coeffiecients\n",
    "\n",
    "plt.figure(figsize = (12,8))\n",
    "x = range(len(train_x.columns))\n",
    "y = lr.coef_\n",
    "plt.bar(x,y)\n",
    "plt.xlabel('Variables')\n",
    "plt.ylabel('Coffecients')\n",
    "plt.title('Coefficients plot')"
   ]
  },
  {
   "cell_type": "code",
   "execution_count": 24,
   "id": "completed-radius",
   "metadata": {},
   "outputs": [
    {
     "data": {
      "text/plain": [
       "(182322, 3)"
      ]
     },
     "execution_count": 24,
     "metadata": {},
     "output_type": "execute_result"
    }
   ],
   "source": [
    "# Arranging and calculating the residuals\n",
    "\n",
    "residuals = pd.DataFrame({\n",
    "    'fitted values': test_y,\n",
    "    'predicted values': test_pred\n",
    "})\n",
    "\n",
    "residuals['residuals'] = residuals['fitted values'] - residuals['predicted values']\n",
    "residuals.shape"
   ]
  },
  {
   "cell_type": "code",
   "execution_count": 25,
   "id": "infinite-winner",
   "metadata": {},
   "outputs": [
    {
     "data": {
      "text/plain": [
       "<matplotlib.legend.Legend at 0x23e34a379b0>"
      ]
     },
     "execution_count": 25,
     "metadata": {},
     "output_type": "execute_result"
    },
    {
     "data": {
      "image/png": "[encoded data removed]",
      "text/plain": [
       "<Figure size 864x576 with 1 Axes>"
      ]
     },
     "metadata": {
      "needs_background": "light"
     },
     "output_type": "display_data"
    }
   ],
   "source": [
    "# plotting the residuals curve and checking for constant variance\n",
    "\n",
    "plt.figure(figsize = (12,8))\n",
    "f = range(0,182322)\n",
    "k = [0 for i in range(0 , 182322)]\n",
    "plt.scatter(f , residuals.residuals[:] , label = 'residuals')\n",
    "plt.plot(f,k,color = 'r' , label = 'regression_line')\n",
    "plt.xlabel('fitted points')\n",
    "plt.ylabel('residuals')\n",
    "plt.title('Residual plot')\n",
    "plt.ylim(-4000 , 4000)\n",
    "plt.legend()"
   ]
  },
  {
   "cell_type": "code",
   "execution_count": 26,
   "id": "third-fraud",
   "metadata": {},
   "outputs": [],
   "source": [
    "# There is no pattern or variance in the dataset. The Dataset is nearly constant.\n"
   ]
  },
  {
   "cell_type": "code",
   "execution_count": 27,
   "id": "entitled-highland",
   "metadata": {},
   "outputs": [
    {
     "data": {
      "text/plain": [
       "Text(0.5, 1.0, 'Distribution of error terms')"
      ]
     },
     "execution_count": 27,
     "metadata": {},
     "output_type": "execute_result"
    },
    {
     "data": {
      "image/png": "[encoded data removed]",
      "text/plain": [
       "<Figure size 864x576 with 1 Axes>"
      ]
     },
     "metadata": {
      "needs_background": "light"
     },
     "output_type": "display_data"
    }
   ],
   "source": [
    "# Checking the distributions of residuals\n",
    "\n",
    "plt.figure(figsize = (12,8))\n",
    "plt.hist(residuals.residuals , bins = 1000)\n",
    "plt.xlabel('Error')\n",
    "plt.ylabel('Frequency')\n",
    "plt.title('Distribution of error terms')"
   ]
  },
  {
   "cell_type": "code",
   "execution_count": 28,
   "id": "tribal-segment",
   "metadata": {},
   "outputs": [],
   "source": [
    "# Most of our data is entered around 0, there are some large values but not too high though."
   ]
  },
  {
   "cell_type": "code",
   "execution_count": 29,
   "id": "miniature-selection",
   "metadata": {},
   "outputs": [
    {
     "data": {
      "text/plain": [
       "Text(0.5, 1.0, 'Checking distributions of Residual Errors')"
      ]
     },
     "execution_count": 29,
     "metadata": {},
     "output_type": "execute_result"
    },
    {
     "data": {
      "image/png": "[encoded data removed]",
      "text/plain": [
       "<Figure size 1200x960 with 1 Axes>"
      ]
     },
     "metadata": {
      "needs_background": "light"
     },
     "output_type": "display_data"
    }
   ],
   "source": [
    "# Importing qq plot and checking for linear relationship of our data.\n",
    "\n",
    "from statsmodels.graphics.gofplots import qqplot\n",
    "\n",
    "fig , ax = plt.subplots(figsize = (10,8) , dpi = 120)\n",
    "qqplot(residuals.residuals , line ='s' , ax = ax)\n",
    "plt.xlabel('Ideal Scaled Quantiles')\n",
    "plt.ylabel('Residual Quantiles')\n",
    "plt.title('Checking distributions of Residual Errors')"
   ]
  },
  {
   "cell_type": "code",
   "execution_count": 30,
   "id": "funny-harrison",
   "metadata": {},
   "outputs": [],
   "source": [
    "# Yeah most of our data is linear. There are very few outliers."
   ]
  },
  {
   "cell_type": "code",
   "execution_count": 31,
   "id": "northern-agent",
   "metadata": {},
   "outputs": [],
   "source": [
    "# Now lets check for multicollinearity using Variance Inflation Factor(VIF)"
   ]
  },
  {
   "cell_type": "code",
   "execution_count": 32,
   "id": "noble-johnston",
   "metadata": {},
   "outputs": [
    {
     "data": {
      "text/plain": [
       "vendor_id               1.096377e+00\n",
       "passenger_count         1.090525e+00\n",
       "pickup_longitude        2.650694e+00\n",
       "pickup_latitude         1.335037e+00\n",
       "dropoff_longitude       2.618452e+00\n",
       "dropoff_latitude        1.330424e+00\n",
       "trip_duration           1.103229e+00\n",
       "weekday                 1.010263e+00\n",
       "hour_of_day             1.010530e+00\n",
       "month                   1.004018e+00\n",
       "store_and_fwd_flag_N    3.898855e+06\n",
       "store_and_fwd_flag_Y    2.170571e+04\n",
       "dtype: float64"
      ]
     },
     "execution_count": 32,
     "metadata": {},
     "output_type": "execute_result"
    }
   ],
   "source": [
    "from statsmodels.stats.outliers_influence import variance_inflation_factor\n",
    "from statsmodels.tools.tools import add_constant\n",
    "\n",
    "# Calculating VIF for every column(it works only for non categorical)\n",
    "VIF = pd.Series([variance_inflation_factor(df.values , i) for i in range(df.shape[1])] , index = df.columns)\n",
    "VIF"
   ]
  },
  {
   "cell_type": "code",
   "execution_count": 33,
   "id": "spoken-heater",
   "metadata": {},
   "outputs": [],
   "source": [
    "# From this list , we can clearly see that their is no independent variable that has its value over 5,\n",
    "#which means that there are no features that exhibit Multicollinearity in the dataset."
   ]
  },
  {
   "cell_type": "code",
   "execution_count": 34,
   "id": "liquid-familiar",
   "metadata": {},
   "outputs": [
    {
     "data": {
      "text/plain": [
       "LinearRegression(normalize=True)"
      ]
     },
     "execution_count": 34,
     "metadata": {},
     "output_type": "execute_result"
    }
   ],
   "source": [
    "# now lets normalize the data and then interpret its output.\n",
    "\n",
    "lr = LinearRegression(normalize = True)\n",
    "# fitting the model\n",
    "lr.fit(train_x , train_y)"
   ]
  },
  {
   "cell_type": "code",
   "execution_count": 35,
   "id": "exterior-contributor",
   "metadata": {},
   "outputs": [
    {
     "name": "stdout",
     "output_type": "stream",
     "text": [
      "RMSE after normalizing the data 592.1051105519804\n"
     ]
    }
   ],
   "source": [
    "test_pred = lr.predict(test_x)\n",
    "k = np.sqrt(mse(test_pred , test_y))\n",
    "print('RMSE after normalizing the data' , k)"
   ]
  },
  {
   "cell_type": "code",
   "execution_count": 36,
   "id": "welsh-feelings",
   "metadata": {},
   "outputs": [
    {
     "data": {
      "text/plain": [
       "Text(0.5, 1.0, 'Normalized Coefficients plot')"
      ]
     },
     "execution_count": 36,
     "metadata": {},
     "output_type": "execute_result"
    },
    {
     "data": {
      "image/png": "[encoded data removed]",
      "text/plain": [
       "<Figure size 864x576 with 1 Axes>"
      ]
     },
     "metadata": {
      "needs_background": "light"
     },
     "output_type": "display_data"
    }
   ],
   "source": [
    "# Let's plot these coeffiecients\n",
    "\n",
    "plt.figure(figsize = (12,8))\n",
    "x = range(len(train_x.columns))\n",
    "y = lr.coef_\n",
    "plt.bar(x,y)\n",
    "plt.xlabel('Variables')\n",
    "plt.ylabel('Coffecients')\n",
    "plt.title('Normalized Coefficients plot')"
   ]
  },
  {
   "cell_type": "code",
   "execution_count": 37,
   "id": "becoming-deviation",
   "metadata": {},
   "outputs": [],
   "source": [
    "# Let us remove the coffecients that are very small close to zero and again plot the model."
   ]
  },
  {
   "cell_type": "code",
   "execution_count": 38,
   "id": "suburban-extent",
   "metadata": {},
   "outputs": [
    {
     "data": {
      "text/plain": [
       "((729287, 11), (729287,))"
      ]
     },
     "execution_count": 38,
     "metadata": {},
     "output_type": "execute_result"
    }
   ],
   "source": [
    "# separating independent and dependent variables\n",
    "x = df.drop(['trip_duration'] , axis = 1)\n",
    "y = df['trip_duration']\n",
    "x.shape , y.shape"
   ]
  },
  {
   "cell_type": "code",
   "execution_count": 39,
   "id": "cloudy-tribute",
   "metadata": {},
   "outputs": [
    {
     "data": {
      "text/html": [
       "<div>\n",
       "<style scoped>\n",
       "    .dataframe tbody tr th:only-of-type {\n",
       "        vertical-align: middle;\n",
       "    }\n",
       "\n",
       "    .dataframe tbody tr th {\n",
       "        vertical-align: top;\n",
       "    }\n",
       "\n",
       "    .dataframe thead th {\n",
       "        text-align: right;\n",
       "    }\n",
       "</style>\n",
       "<table border=\"1\" class=\"dataframe\">\n",
       "  <thead>\n",
       "    <tr style=\"text-align: right;\">\n",
       "      <th></th>\n",
       "      <th>Variable</th>\n",
       "      <th>coffecients</th>\n",
       "    </tr>\n",
       "  </thead>\n",
       "  <tbody>\n",
       "    <tr>\n",
       "      <th>0</th>\n",
       "      <td>vendor_id</td>\n",
       "      <td>6.605350</td>\n",
       "    </tr>\n",
       "    <tr>\n",
       "      <th>1</th>\n",
       "      <td>passenger_count</td>\n",
       "      <td>8.600013</td>\n",
       "    </tr>\n",
       "    <tr>\n",
       "      <th>2</th>\n",
       "      <td>pickup_longitude</td>\n",
       "      <td>141.972636</td>\n",
       "    </tr>\n",
       "    <tr>\n",
       "      <th>3</th>\n",
       "      <td>pickup_latitude</td>\n",
       "      <td>-81.759987</td>\n",
       "    </tr>\n",
       "    <tr>\n",
       "      <th>4</th>\n",
       "      <td>dropoff_longitude</td>\n",
       "      <td>-35.303324</td>\n",
       "    </tr>\n",
       "  </tbody>\n",
       "</table>\n",
       "</div>"
      ],
      "text/plain": [
       "            Variable  coffecients\n",
       "0          vendor_id     6.605350\n",
       "1    passenger_count     8.600013\n",
       "2   pickup_longitude   141.972636\n",
       "3    pickup_latitude   -81.759987\n",
       "4  dropoff_longitude   -35.303324"
      ]
     },
     "execution_count": 39,
     "metadata": {},
     "output_type": "execute_result"
    }
   ],
   "source": [
    "# Arranging coffecients with features\n",
    "\n",
    "Coffecients = pd.DataFrame({\n",
    "    'Variable' : x.columns,\n",
    "    'coffecients': lr.coef_\n",
    "})\n",
    "Coffecients.head()"
   ]
  },
  {
   "cell_type": "code",
   "execution_count": 47,
   "id": "pending-leonard",
   "metadata": {},
   "outputs": [],
   "source": [
    "# Filtering our data with coffecients that have their value close to zero."
   ]
  },
  {
   "cell_type": "code",
   "execution_count": 40,
   "id": "natural-signal",
   "metadata": {},
   "outputs": [],
   "source": [
    "sig_var = Coffecients[(Coffecients.coffecients > 1) | (Coffecients.coffecients < -1)]"
   ]
  },
  {
   "cell_type": "code",
   "execution_count": 41,
   "id": "extended-staff",
   "metadata": {},
   "outputs": [
    {
     "data": {
      "text/html": [
       "<div>\n",
       "<style scoped>\n",
       "    .dataframe tbody tr th:only-of-type {\n",
       "        vertical-align: middle;\n",
       "    }\n",
       "\n",
       "    .dataframe tbody tr th {\n",
       "        vertical-align: top;\n",
       "    }\n",
       "\n",
       "    .dataframe thead th {\n",
       "        text-align: right;\n",
       "    }\n",
       "</style>\n",
       "<table border=\"1\" class=\"dataframe\">\n",
       "  <thead>\n",
       "    <tr style=\"text-align: right;\">\n",
       "      <th></th>\n",
       "      <th>vendor_id</th>\n",
       "      <th>passenger_count</th>\n",
       "      <th>pickup_longitude</th>\n",
       "      <th>pickup_latitude</th>\n",
       "      <th>dropoff_longitude</th>\n",
       "      <th>dropoff_latitude</th>\n",
       "      <th>weekday</th>\n",
       "      <th>hour_of_day</th>\n",
       "      <th>month</th>\n",
       "      <th>store_and_fwd_flag_N</th>\n",
       "      <th>store_and_fwd_flag_Y</th>\n",
       "    </tr>\n",
       "  </thead>\n",
       "  <tbody>\n",
       "    <tr>\n",
       "      <th>0</th>\n",
       "      <td>2</td>\n",
       "      <td>1</td>\n",
       "      <td>-73.953918</td>\n",
       "      <td>40.778873</td>\n",
       "      <td>-73.963875</td>\n",
       "      <td>40.771164</td>\n",
       "      <td>0</td>\n",
       "      <td>16</td>\n",
       "      <td>2</td>\n",
       "      <td>1</td>\n",
       "      <td>0</td>\n",
       "    </tr>\n",
       "    <tr>\n",
       "      <th>1</th>\n",
       "      <td>1</td>\n",
       "      <td>2</td>\n",
       "      <td>-73.988312</td>\n",
       "      <td>40.731743</td>\n",
       "      <td>-73.994751</td>\n",
       "      <td>40.694931</td>\n",
       "      <td>4</td>\n",
       "      <td>23</td>\n",
       "      <td>3</td>\n",
       "      <td>1</td>\n",
       "      <td>0</td>\n",
       "    </tr>\n",
       "    <tr>\n",
       "      <th>2</th>\n",
       "      <td>2</td>\n",
       "      <td>2</td>\n",
       "      <td>-73.997314</td>\n",
       "      <td>40.721458</td>\n",
       "      <td>-73.948029</td>\n",
       "      <td>40.774918</td>\n",
       "      <td>6</td>\n",
       "      <td>17</td>\n",
       "      <td>2</td>\n",
       "      <td>1</td>\n",
       "      <td>0</td>\n",
       "    </tr>\n",
       "    <tr>\n",
       "      <th>3</th>\n",
       "      <td>2</td>\n",
       "      <td>6</td>\n",
       "      <td>-73.961670</td>\n",
       "      <td>40.759720</td>\n",
       "      <td>-73.956779</td>\n",
       "      <td>40.780628</td>\n",
       "      <td>1</td>\n",
       "      <td>9</td>\n",
       "      <td>1</td>\n",
       "      <td>1</td>\n",
       "      <td>0</td>\n",
       "    </tr>\n",
       "    <tr>\n",
       "      <th>4</th>\n",
       "      <td>1</td>\n",
       "      <td>1</td>\n",
       "      <td>-74.017120</td>\n",
       "      <td>40.708469</td>\n",
       "      <td>-73.988182</td>\n",
       "      <td>40.740631</td>\n",
       "      <td>2</td>\n",
       "      <td>6</td>\n",
       "      <td>2</td>\n",
       "      <td>1</td>\n",
       "      <td>0</td>\n",
       "    </tr>\n",
       "  </tbody>\n",
       "</table>\n",
       "</div>"
      ],
      "text/plain": [
       "   vendor_id  passenger_count  pickup_longitude  pickup_latitude  \\\n",
       "0          2                1        -73.953918        40.778873   \n",
       "1          1                2        -73.988312        40.731743   \n",
       "2          2                2        -73.997314        40.721458   \n",
       "3          2                6        -73.961670        40.759720   \n",
       "4          1                1        -74.017120        40.708469   \n",
       "\n",
       "   dropoff_longitude  dropoff_latitude  weekday  hour_of_day  month  \\\n",
       "0         -73.963875         40.771164        0           16      2   \n",
       "1         -73.994751         40.694931        4           23      3   \n",
       "2         -73.948029         40.774918        6           17      2   \n",
       "3         -73.956779         40.780628        1            9      1   \n",
       "4         -73.988182         40.740631        2            6      2   \n",
       "\n",
       "   store_and_fwd_flag_N  store_and_fwd_flag_Y  \n",
       "0                     1                     0  \n",
       "1                     1                     0  \n",
       "2                     1                     0  \n",
       "3                     1                     0  \n",
       "4                     1                     0  "
      ]
     },
     "execution_count": 41,
     "metadata": {},
     "output_type": "execute_result"
    }
   ],
   "source": [
    "subset = df[sig_var['Variable'].values]\n",
    "subset.head()"
   ]
  },
  {
   "cell_type": "code",
   "execution_count": 42,
   "id": "acceptable-snake",
   "metadata": {},
   "outputs": [
    {
     "data": {
      "text/plain": [
       "((729287, 11), (729287,))"
      ]
     },
     "execution_count": 42,
     "metadata": {},
     "output_type": "execute_result"
    }
   ],
   "source": [
    "subset.shape , y.shape"
   ]
  },
  {
   "cell_type": "code",
   "execution_count": 43,
   "id": "whole-ribbon",
   "metadata": {},
   "outputs": [],
   "source": [
    "# Splitting the data into train and test set\n",
    "\n",
    "from sklearn.model_selection import train_test_split\n",
    "train_x , test_x , train_y , test_y = train_test_split(subset , y , random_state = 100)"
   ]
  },
  {
   "cell_type": "code",
   "execution_count": 44,
   "id": "derived-surveillance",
   "metadata": {},
   "outputs": [
    {
     "data": {
      "text/plain": [
       "LinearRegression(normalize=True)"
      ]
     },
     "execution_count": 44,
     "metadata": {},
     "output_type": "execute_result"
    }
   ],
   "source": [
    "lr = LinearRegression(normalize = True)\n",
    "lr.fit(train_x , train_y)"
   ]
  },
  {
   "cell_type": "code",
   "execution_count": 45,
   "id": "friendly-england",
   "metadata": {},
   "outputs": [
    {
     "name": "stdout",
     "output_type": "stream",
     "text": [
      "RMSE of our current model is : 592.1051105519808\n"
     ]
    }
   ],
   "source": [
    "test_pred = lr.predict(test_x)\n",
    "k = np.sqrt(mse(test_pred , test_y))\n",
    "print('RMSE of our current model is :' , k)"
   ]
  },
  {
   "cell_type": "code",
   "execution_count": 48,
   "id": "discrete-multimedia",
   "metadata": {},
   "outputs": [
    {
     "data": {
      "text/plain": [
       "Text(0.5, 1.0, 'Normalized Coefficient plot')"
      ]
     },
     "execution_count": 48,
     "metadata": {},
     "output_type": "execute_result"
    },
    {
     "data": {
      "image/png": "[encoded data removed]",
      "text/plain": [
       "<Figure size 960x720 with 1 Axes>"
      ]
     },
     "metadata": {},
     "output_type": "display_data"
    }
   ],
   "source": [
    "# Final coffecients and their value \n",
    "\n",
    "plt.figure(figsize=(8, 6), dpi=120, facecolor='w', edgecolor='b')\n",
    "x = range(len(train_x.columns))\n",
    "y = lr.coef_\n",
    "plt.bar( x, y )\n",
    "plt.xlabel( \"Variables\")\n",
    "plt.ylabel('Coefficients')\n",
    "plt.title('Normalized Coefficient plot')"
   ]
  },
  {
   "cell_type": "code",
   "execution_count": null,
   "id": "given-current",
   "metadata": {},
   "outputs": [],
   "source": []
  }
 ],
 "metadata": {
  "kernelspec": {
   "display_name": "Python 3",
   "language": "python",
   "name": "python3"
  },
  "language_info": {
   "codemirror_mode": {
    "name": "ipython",
    "version": 3
   },
   "file_extension": ".py",
   "mimetype": "text/x-python",
   "name": "python",
   "nbconvert_exporter": "python",
   "pygments_lexer": "ipython3",
   "version": "3.7.3"
  }
 },
 "nbformat": 4,
 "nbformat_minor": 5
}
